{
 "cells": [
  {
   "cell_type": "markdown",
   "metadata": {},
   "source": [
    "___\n",
    "\n",
    "<a href='https://viqasys.com/wp-content/uploads/2021/07/ns1.png'><img src='https://viqasys.com/wp-content/uploads/2021/07/ns1.png'/></a>\n",
    "___\n",
    "<center><em>Content Copyright VIQASYS INNOVATIONS PVT LTD.</em></center>\n",
    "\n",
    "# Assignment 1"
   ]
  },
  {
   "cell_type": "markdown",
   "metadata": {},
   "source": [
    "# Question 1\n",
    "\n",
    "In the below elements, identify which of them are values or expressions. Values can be integers or strings, while expressions will be mathematical operators or combinations thereof.\n",
    "'hello', \n",
    "-87., ), o, lu, alu, ssion)'(Value))str\" (Value)"
   ]
  },
  {
   "cell_type": "code",
   "execution_count": null,
   "metadata": {},
   "outputs": [
    {
     "ename": "",
     "evalue": "",
     "output_type": "error",
     "traceback": [
      "\u001b[1;31mRunning cells with 'c:\\Users\\admin\\AppData\\Local\\Microsoft\\WindowsApps\\python3.12.exe' requires the ipykernel package.\n",
      "\u001b[1;31mRun the following command to install 'ipykernel' into the Python environment. \n",
      "\u001b[1;31mCommand: 'c:/Users/admin/AppData/Local/Microsoft/WindowsApps/python3.12.exe -m pip install ipykernel -U --user --force-reinstall'"
     ]
    }
   ],
   "source": [
    "# \"x\": This is a variable, so it is not an expression on its own.\n",
    "# 5: This is an integer literal, so it is a value.\n",
    "# \"hello\": This is a string literal, so it is a value.\n",
    "# x + 3: This is an expression that adds the value of the variable x to the integer literal 3.\n",
    "# \"hello\" - 81: This is not a valid expression, because you cannot subtract an integer from a string.\n",
    "# 0: This is an integer literal, so it is a value.\n",
    "# lu: This is a variable, so it is not an expression on its own.\n",
    "# alu: This is a variable, so it is not an expression on its own.\n",
    "# \"sson\": This is a string literal, but it is missing the first character, so it is not a valid value or expression.\n",
    "# (value): This is not a valid expression, because value is not defined.\n",
    "# str(value): This is a function call that takes a value as an argument and returns a string representation of that value. However, since value is not defined, this is not a valid expression.\n",
    "# I hope that helps! Let me know if you have any other questions.\n",
    "\n",
    "\n",
    "\n"
   ]
  },
  {
   "cell_type": "markdown",
   "metadata": {},
   "source": [
    "## Question 2\n",
    "\n",
    "Explain the difference between a string and a variable.\n"
   ]
  },
  {
   "cell_type": "code",
   "execution_count": null,
   "metadata": {},
   "outputs": [
    {
     "ename": "",
     "evalue": "",
     "output_type": "error",
     "traceback": [
      "\u001b[1;31mRunning cells with 'c:\\Users\\admin\\AppData\\Local\\Microsoft\\WindowsApps\\python3.12.exe' requires the ipykernel package.\n",
      "\u001b[1;31mRun the following command to install 'ipykernel' into the Python environment. \n",
      "\u001b[1;31mCommand: 'c:/Users/admin/AppData/Local/Microsoft/WindowsApps/python3.12.exe -m pip install ipykernel -U --user --force-reinstall'"
     ]
    }
   ],
   "source": [
    "a=10  # a variable is a container that can store the value of a variable ,it can anydata type \n",
    "name=\"manish kumar\"\n",
    "print(name,a)\n",
    "# but string is a data type   ,that can store only charatcers \n",
    "# the characters written in the \"\"  quotation mark\n",
    "# if we take any character ,digit ,or decimal value in the cotation mark that  is colles string  and that tells set of characters \n",
    "\n",
    "name2=\"123wert8.0.\"\n",
    "print(name2)"
   ]
  },
  {
   "cell_type": "markdown",
   "metadata": {},
   "source": [
    "## Question 3\n",
    "Describe three different data types commonly used in programming"
   ]
  },
  {
   "cell_type": "code",
   "execution_count": null,
   "metadata": {},
   "outputs": [
    {
     "ename": "",
     "evalue": "",
     "output_type": "error",
     "traceback": [
      "\u001b[1;31mRunning cells with 'c:\\Users\\admin\\AppData\\Local\\Microsoft\\WindowsApps\\python3.12.exe' requires the ipykernel package.\n",
      "\u001b[1;31mRun the following command to install 'ipykernel' into the Python environment. \n",
      "\u001b[1;31mCommand: 'c:/Users/admin/AppData/Local/Microsoft/WindowsApps/python3.12.exe -m pip install ipykernel -U --user --force-reinstall'"
     ]
    }
   ],
   "source": [
    "# Here's an example of how you might use these data types in Python:\n",
    "\n",
    "\n",
    "# Integers: In Python, integers are a data type that can hold whole numbers, both positive and negative. For example, 5, 0, and -3 are all integers.\n",
    "\n",
    "\n",
    "\n",
    "\n",
    "# python\n",
    "# Copy code\n",
    "# This is an integer\n",
    "x = 5\n",
    "print(x)\n",
    "\n",
    "\n",
    "\n",
    "# Floats: Floats are a data type that can hold decimal numbers. For example, 3.14, 0.0, and -2.718 are all floats.\n",
    "# This is a float\n",
    "y = 3.14\n",
    "print(y)\n",
    "\n",
    "\n",
    "\n",
    "\n",
    "# Strings: Strings are a data type that can hold sequences of characters, enclosed in either single quotes (') or double quotes (\"). For example, 'hello', \"world\", and \"\" (an empty string) are all strings.\n",
    "# This is a string\n",
    "z = \"Hello, world!\"\n",
    "print(z)\n",
    "# You can perform arithmetic operations on integers and floats\n",
    "print(x + y)  # Output: 8.14\n",
    "\n",
    "# You can concatenate strings using the + operator\n",
    "print(z + \" How are you?\")  # Output: Hello, world! How are you?\n",
    "\n",
    "# You can also use the * operator to repeat a string\n",
    "print(z * 3)  # Output: Hello, world!Hello, world!Hello, world!\n",
    "# \n",
    "\n",
    "\n"
   ]
  },
  {
   "cell_type": "markdown",
   "metadata": {},
   "source": [
    "## Question 4\n",
    "What is an expression made up of? What is the general purpose of expressions?\n"
   ]
  },
  {
   "cell_type": "code",
   "execution_count": null,
   "metadata": {},
   "outputs": [
    {
     "ename": "",
     "evalue": "",
     "output_type": "error",
     "traceback": [
      "\u001b[1;31mRunning cells with 'c:\\Users\\admin\\AppData\\Local\\Microsoft\\WindowsApps\\python3.12.exe' requires the ipykernel package.\n",
      "\u001b[1;31mRun the following command to install 'ipykernel' into the Python environment. \n",
      "\u001b[1;31mCommand: 'c:/Users/admin/AppData/Local/Microsoft/WindowsApps/python3.12.exe -m pip install ipykernel -U --user --force-reinstall'"
     ]
    }
   ],
   "source": [
    "# In programming, an expression is a combination of values, variables, and operators that can be evaluated to a single value.\n",
    "\n",
    "# An expression can be made up of:\n",
    "\n",
    "# Literals: These are fixed values that can be assigned to variables or used in expressions. For example, 5, 3.14, and \"hello\" are all literals.\n",
    "# Variables: These are names given to memory locations that can hold values. For example, x = 5 assigns the value 5 to the variable x.\n",
    "# Operators: These are symbols that represent mathematical or logical operations. For example, +, -, *, /, %, ==, !=, <, >, <=, >=, and, or, and not are all operators.\n",
    "# Functions: These are reusable blocks of code that perform a specific task. Functions can take input values (called arguments), perform some operations, and return a value. For example, the len() function returns the length of a string or a list.\n",
    "# The general form of an expression is:\n",
    "\n",
    "# python\n",
    "# Copy code\n",
    "# expression ::= literal | variable | function_call | expression operator expression\n",
    "\n",
    "\n"
   ]
  },
  {
   "cell_type": "markdown",
   "metadata": {},
   "source": [
    "## Question 5\n",
    "\n",
    "Explain the difference between an expression and a statement, using examples if necessary."
   ]
  },
  {
   "cell_type": "code",
   "execution_count": null,
   "metadata": {},
   "outputs": [
    {
     "ename": "",
     "evalue": "",
     "output_type": "error",
     "traceback": [
      "\u001b[1;31mRunning cells with 'c:\\Users\\admin\\AppData\\Local\\Microsoft\\WindowsApps\\python3.12.exe' requires the ipykernel package.\n",
      "\u001b[1;31mRun the following command to install 'ipykernel' into the Python environment. \n",
      "\u001b[1;31mCommand: 'c:/Users/admin/AppData/Local/Microsoft/WindowsApps/python3.12.exe -m pip install ipykernel -U --user --force-reinstall'"
     ]
    }
   ],
   "source": [
    "\n",
    "# expression  :=\n",
    "# In Python, an expression is a combination of values, variables, and operators that can be evaluated to a single value. For example, 2 + 3 is an expression that evaluates to the value 5.\n",
    "\n",
    "# On the other hand, a statement is a command that performs an action or defines a rule for the program. For example, if x > 0: print(\"x is positive\") is a statement that checks if the value of x is greater than 0, and if so, prints the message \"x is positive\".\n",
    "\n",
    "\n",
    "\n",
    "# Expressions:=\n",
    "\n",
    "# b=2+3\n",
    "# print(b)\n",
    "# 2 + 3: This is an expression that evaluates to the value 5.\n",
    "\n",
    "# c=x * y\n",
    "# print(c)\n",
    "# x * y: This is an expression that evaluates to the product of the values of x and y.\n",
    "\n",
    "# a=len([1, 2, 3])\n",
    "# print(len(a))\n",
    "# len([1, 2, 3]): This is an expression that evaluates to the length of the list [1, 2, 3], which is 3.\n",
    "\n",
    "print(\"hello\" + \" \" + \"world\")\n",
    "# \"hello\" + \" \" + \"world\": This is an expression that concatenates the strings \"hello\", \" \", and \"world\" to produce the string \"hello world\".\n",
    "# Statements\n",
    "\n",
    "#  x = 5\n",
    "#  print(x)\n",
    "# x = 5: This is an assignment statement that assigns the value 5 to the variable x.\n",
    "\n",
    "\n",
    "# if x > 0: print(\"x is positive\"): This is a conditional statement that checks if the value of x is greater than 0, and if so, prints the message \"x is positive\".\n",
    "\n",
    "x=\"hellow\"\n",
    "print(x)  #it is a expression\n",
    "# here \"hello\" is a string  ,whihch is the value of x\n",
    "\n"
   ]
  },
  {
   "cell_type": "markdown",
   "metadata": {},
   "source": [
    "## Question 6\n",
    "After running the following code, what does the variable \"bacon\" contain?\n",
    "\n",
    "bacon = 22 <br>\n",
    "\n",
    "bacon + 1"
   ]
  },
  {
   "cell_type": "code",
   "execution_count": null,
   "metadata": {},
   "outputs": [
    {
     "ename": "",
     "evalue": "",
     "output_type": "error",
     "traceback": [
      "\u001b[1;31mRunning cells with 'c:\\Users\\admin\\AppData\\Local\\Microsoft\\WindowsApps\\python3.12.exe' requires the ipykernel package.\n",
      "\u001b[1;31mRun the following command to install 'ipykernel' into the Python environment. \n",
      "\u001b[1;31mCommand: 'c:/Users/admin/AppData/Local/Microsoft/WindowsApps/python3.12.exe -m pip install ipykernel -U --user --force-reinstall'"
     ]
    }
   ],
   "source": [
    "bacon=22\n",
    "bacon+1\n"
   ]
  },
  {
   "cell_type": "code",
   "execution_count": null,
   "metadata": {},
   "outputs": [
    {
     "ename": "",
     "evalue": "",
     "output_type": "error",
     "traceback": [
      "\u001b[1;31mRunning cells with 'c:\\Users\\admin\\AppData\\Local\\Microsoft\\WindowsApps\\python3.12.exe' requires the ipykernel package.\n",
      "\u001b[1;31mRun the following command to install 'ipykernel' into the Python environment. \n",
      "\u001b[1;31mCommand: 'c:/Users/admin/AppData/Local/Microsoft/WindowsApps/python3.12.exe -m pip install ipykernel -U --user --force-reinstall'"
     ]
    }
   ],
   "source": [
    "becon =22 # there is \"becon \" is a variable ,that stored the address of the 22\n",
    "\n",
    "# here  we can print  the  becon of value\n",
    "print(becon)\n",
    "# becon+1\n",
    "print(becon+1)\n",
    "# the becon+1, can add a one \"1\" in the value of becon in\n",
    "#  it gives a new value of beacon\n"
   ]
  },
  {
   "cell_type": "markdown",
   "metadata": {},
   "source": [
    "## Question 7\n",
    "Determine the values of the following two terms:<br>\n",
    "'spam' + 'spamspam'<br>\n",
    "'spam' * 3\n",
    "\n"
   ]
  },
  {
   "cell_type": "code",
   "execution_count": null,
   "metadata": {},
   "outputs": [
    {
     "ename": "",
     "evalue": "",
     "output_type": "error",
     "traceback": [
      "\u001b[1;31mRunning cells with 'c:\\Users\\admin\\AppData\\Local\\Microsoft\\WindowsApps\\python3.12.exe' requires the ipykernel package.\n",
      "\u001b[1;31mRun the following command to install 'ipykernel' into the Python environment. \n",
      "\u001b[1;31mCommand: 'c:/Users/admin/AppData/Local/Microsoft/WindowsApps/python3.12.exe -m pip install ipykernel -U --user --force-reinstall'"
     ]
    }
   ],
   "source": [
    "print('sapam'+'spamspam')\n",
    "\n",
    "# the output  of the  above  code is sapamspamspam which means that\n",
    "# 'spam'+'spamspam\n",
    "a=\"spam\"\n",
    "print(a*3)\n",
    "# print(spam*3)   without declearation of the \"spam\" variable   it can not print the multiplication of \"spam*3\" "
   ]
  },
  {
   "cell_type": "markdown",
   "metadata": {},
   "source": [
    "## Question 8\n",
    "\n",
    "Why is \"eggs\" a valid variable name while \"100\" is invalid?"
   ]
  },
  {
   "cell_type": "code",
   "execution_count": null,
   "metadata": {},
   "outputs": [
    {
     "ename": "",
     "evalue": "",
     "output_type": "error",
     "traceback": [
      "\u001b[1;31mRunning cells with 'c:\\Users\\admin\\AppData\\Local\\Microsoft\\WindowsApps\\python3.12.exe' requires the ipykernel package.\n",
      "\u001b[1;31mRun the following command to install 'ipykernel' into the Python environment. \n",
      "\u001b[1;31mCommand: 'c:/Users/admin/AppData/Local/Microsoft/WindowsApps/python3.12.exe -m pip install ipykernel -U --user --force-reinstall'"
     ]
    }
   ],
   "source": [
    "# In Python, variable names must start with a letter or an underscore, followed by any combination of letters, digits, or underscores. However, a variable name cannot start with a digit, which is why \"100\" is an invalid variable name.\n",
    "\n",
    "# On the other hand, \"eggs\" is a valid variable name because it starts with a letter and follows the naming conventions for variable names in Python.\n",
    "\n",
    "# Here are some more examples of valid and invalid variable names in Python:\n",
    "\n",
    "# Valid variable names\n",
    "# x\n",
    "# my_variable\n",
    "# _underscore\n",
    "# myVariable\n",
    "# MY_VARIABLE\n",
    "a=x\n",
    "print(a)\n",
    "\n",
    "\n",
    "\n",
    "# Invalid variable names\n",
    "# 1x (starts with a digit)\n",
    "# my-variable (contains a hyphen)\n",
    "# my%variable (contains a special character)\n",
    "# my variable (contains a space)\n",
    "\n",
    "# 100=123  \n",
    "# print(100)\n",
    "\n",
    "\n",
    "# as well as the variable  name \"100\" is start with digit  ,that is the  resion behind it ,that is  invalid  \n",
    "# and a invalid   example variable varaiable name\n",
    "\n"
   ]
  },
  {
   "cell_type": "markdown",
   "metadata": {},
   "source": [
    "## Question 9\n",
    "\n",
    "List three functions that can be used to obtain the integer, floating-point number, or string version of a value."
   ]
  },
  {
   "cell_type": "code",
   "execution_count": null,
   "metadata": {},
   "outputs": [
    {
     "ename": "",
     "evalue": "",
     "output_type": "error",
     "traceback": [
      "\u001b[1;31mRunning cells with 'c:\\Users\\admin\\AppData\\Local\\Microsoft\\WindowsApps\\python3.12.exe' requires the ipykernel package.\n",
      "\u001b[1;31mRun the following command to install 'ipykernel' into the Python environment. \n",
      "\u001b[1;31mCommand: 'c:/Users/admin/AppData/Local/Microsoft/WindowsApps/python3.12.exe -m pip install ipykernel -U --user --force-reinstall'"
     ]
    }
   ],
   "source": [
    "# In Python, you can use the following functions to obtain the integer, floating-point number, or string version of a value:\n",
    "\n",
    "# int(): This function converts a value to an integer. For example, int(3.14) returns 3, and int(\"5\") returns 5.\n",
    "\n",
    "\n",
    "# float(): This function converts a value to a floating-point number. For example, float(5) returns 5.0, and float(\"3.14\") returns 3.14.\n",
    "\n",
    "\n",
    "\n",
    "# str(): This function converts a value to a string. For example, str(5) returns \"5\", and str(3.14) returns \"3.14\".\n",
    "\n",
    "# Convert a floating-point number to an integer\n",
    "print(int(3.14))\n",
    "# output:=3\n",
    "\n",
    "# Convert a string to an integer\n",
    "print(int(\"5\"))\n",
    "# output:=5\n",
    "\n",
    "# Convert an integer to a floating-point number\n",
    "print(float(5))\n",
    "# output:=5.0\n",
    "\n",
    "# Convert a floating-point number to a string\n",
    "#  print(str(3.154))  #int(),float(),may be possible  converting in the string when the all element in writtten in the form of alphabethic or only charaacter \n",
    "# other wise  it not possible\n",
    "# output:=\"3.14\"\n",
    "\n",
    "# Convert an integer to a string\n",
    "print(str(5))\n",
    "print(\"hello world!\")\n",
    "\n",
    "# output:=\"5\""
   ]
  },
  {
   "cell_type": "markdown",
   "metadata": {},
   "source": [
    "## Question 10 \n",
    "Explain why the following expression causes an error and suggest how to fix it:<br>\n",
    "'I have eaten ' + 99 + ' burritos.'\n",
    "\n"
   ]
  },
  {
   "cell_type": "code",
   "execution_count": null,
   "metadata": {},
   "outputs": [
    {
     "ename": "",
     "evalue": "",
     "output_type": "error",
     "traceback": [
      "\u001b[1;31mRunning cells with 'c:\\Users\\admin\\AppData\\Local\\Microsoft\\WindowsApps\\python3.12.exe' requires the ipykernel package.\n",
      "\u001b[1;31mRun the following command to install 'ipykernel' into the Python environment. \n",
      "\u001b[1;31mCommand: 'c:/Users/admin/AppData/Local/Microsoft/WindowsApps/python3.12.exe -m pip install ipykernel -U --user --force-reinstall'"
     ]
    }
   ],
   "source": [
    "# x='I have eaten ' + 99 + ' burritos.'\n",
    "# but\n",
    "x='I have eaten ' + str(99) + ' burritos.'\n",
    "print(x)\n",
    "print('I have eaten ' + str(99) + ' burritos.')\n",
    "\n",
    "\n",
    "# The expression 'I have eaten ' + 99 + ' burritos.' causes an error because you cannot concatenate a string and an integer using the + operator in Python. The + operator has different meanings depending on the data types of the operands. When used with strings, it concatenates them, but when used with integers, it performs arithmetic addition.\n",
    "\n",
    "# To fix the error, you need to convert the integer to a string before concatenating it with the other strings. You can do this using the str() function. Here's the corrected expression:\n",
    "\n",
    "# 'I have eaten ' + str(99) + ' burritos.'\n",
    "\n",
    "# This expression first converts the integer 99 to a string using the str() function, and then concatenates it with the other strings using the + operator. The resulting string is 'I have eaten 99 burritos."
   ]
  },
  {
   "cell_type": "markdown",
   "metadata": {},
   "source": [
    "## Question 11\n",
    "Write a Python program to calculate the sum of two numbers and print the result.\n",
    "gative, or zero."
   ]
  },
  {
   "cell_type": "markdown",
   "metadata": {},
   "source": [
    "In this program, the input() function is used to get the two numbers as input. The user's input is converted to floating-point numbers using the float() function.\n",
    "\n",
    "Then, the sum of the two numbers is calculated using the + operator.\n",
    "\n",
    "Finally, the sum of the two numbers is printed using the print() function."
   ]
  },
  {
   "cell_type": "code",
   "execution_count": null,
   "metadata": {},
   "outputs": [
    {
     "ename": "",
     "evalue": "",
     "output_type": "error",
     "traceback": [
      "\u001b[1;31mRunning cells with 'c:\\Users\\admin\\AppData\\Local\\Microsoft\\WindowsApps\\python3.12.exe' requires the ipykernel package.\n",
      "\u001b[1;31mRun the following command to install 'ipykernel' into the Python environment. \n",
      "\u001b[1;31mCommand: 'c:/Users/admin/AppData/Local/Microsoft/WindowsApps/python3.12.exe -m pip install ipykernel -U --user --force-reinstall'"
     ]
    }
   ],
   "source": [
    "# Get the first number as input\n",
    "num1 = float(input(\"Enter the first number: \"))\n",
    "\n",
    "# Get the second number as input\n",
    "num2 = float(input(\"Enter the second number: \"))\n",
    "\n",
    "# Calculate the sum of the two numbers\n",
    "sum = num1 + num2\n",
    "\n",
    "# Print the sum of the two numbers\n",
    "print(f\"The sum of {num1} and {num2} is {sum}.\")"
   ]
  },
  {
   "cell_type": "markdown",
   "metadata": {},
   "source": [
    "## Question 12\n",
    "Create a Python program that takes the user's name as input and prints a greeting message.\n",
    "\n"
   ]
  },
  {
   "cell_type": "code",
   "execution_count": null,
   "metadata": {},
   "outputs": [],
   "source": [
    "name=input(\"what is your  name  ?\")\n",
    "print(\"hellow\"+name+\"nice to meet you\")\n",
    "\n",
    "\n",
    "# In this program, the input() function is used to get the user's name as input. The user's input is stored in the name variable.\n",
    "\n",
    "# Then, a greeting message is printed using the print() function. The + operator is used to concatenate the string literals and the name variable.\n",
    "\n",
    "# When you run this program, it will prompt the user to enter their name. After the user enters their name and presses Enter, the program will print a greeting message that includes the user's name\n"
   ]
  },
  {
   "cell_type": "markdown",
   "metadata": {},
   "source": [
    "## Question 13\n",
    "Write a Python program to calculate the area of a rectangle given its length and width. (Assume length and width are provided as inputs.)\n",
    "\n"
   ]
  },
  {
   "cell_type": "code",
   "execution_count": null,
   "metadata": {},
   "outputs": [],
   "source": [
    "# Get the length of the rectangle as input\n",
    "length = float(input(\"Enter the length of the rectangle: \"))\n",
    "\n",
    "# Get the width of the rectangle as input\n",
    "width = float(input(\"Enter the width of the rectangle: \"))\n",
    "\n",
    "# Calculate the area of the rectangle\n",
    "area = length *.width\n",
    "\n",
    "# Print the area of the rectangle\n",
    "print(f\"The area of the rectangle with length {length} and width {width} is {area}.\")"
   ]
  },
  {
   "cell_type": "markdown",
   "metadata": {},
   "source": [
    "## Question 14\n",
    "Create a Python program that asks the user for their age and prints out a message saying whether they are a child, teenager, or adult based on their age.\n",
    "\n"
   ]
  },
  {
   "cell_type": "code",
   "execution_count": null,
   "metadata": {},
   "outputs": [],
   "source": [
    "# Get the user's age as input\n",
    "age = int(input(\"What is your age? \"))\n",
    "\n",
    "# Determine whether the user is a child, teenager, or adult\n",
    "if age < 13:\n",
    "    category = \"child\"\n",
    "elif age < 20:\n",
    "    category = \"teenager\"\n",
    "else:\n",
    "    category = \"adult\"\n",
    "\n",
    "# Print a message saying whether the user is a child, teenager, or adult\n",
    "print(f\"You are a {category}.\")"
   ]
  },
  {
   "cell_type": "markdown",
   "metadata": {},
   "source": [
    "## Question 15\n",
    "Write a Python program to convert temperature from Celsius to Fahrenheit. (Assume Celsius temperature is provided as input.)\n",
    "\n"
   ]
  },
  {
   "cell_type": "code",
   "execution_count": null,
   "metadata": {},
   "outputs": [],
   "source": [
    "# Get the Celsius temperature as input\n",
    "celsius = float(input(\"Enter the temperature in Celsius: \"))\n",
    "\n",
    "# Convert the Celsius temperature to Fahrenheit\n",
    "fahrenheit = (celsius * 9 / 5) + 32\n",
    "\n",
    "# Print the Fahrenheit temperature\n",
    "print(f\"{celsius} degrees Celsius is equivalent to {fahrenheit} degrees Fahrenheit.\")\n",
    "\n",
    "\n",
    "\n",
    "\n",
    "# In this program, the input() function is used to get the Celsius temperature as input. The user's input is converted to a floating-point number using the float() function.\n",
    "\n",
    "# Then, the formula for converting Celsius to Fahrenheit is applied: fahrenheit = (celsius * 9 / 5) + 32.\n",
    "\n",
    "# Finally, the Fahrenheit temperature is printed using the print() function.\n",
    "\n",
    "# When you run this program, it will prompt the user to enter the temperature in Celsius. After the user enters the temperature and presses Enter, the program will print the equivalent temperature in Fahrenheit.\n",
    "\n"
   ]
  },
  {
   "cell_type": "markdown",
   "metadata": {},
   "source": [
    "## Question 16\n",
    "Create a Python program that takes the radius of a circle as input and calculates its area. (Assume the value of pi is 3.14.)\n",
    "\n"
   ]
  },
  {
   "cell_type": "code",
   "execution_count": null,
   "metadata": {},
   "outputs": [],
   "source": [
    "# Get the radius of the circle as input\n",
    "radius = float(input(\"Enter the radius of the circle: \"))\n",
    "\n",
    "# Calculate the area of the circle\n",
    "area = 3.14 * radius ** 2\n",
    "\n",
    "# Print the area of the circle\n",
    "print(f\"The area of the circle with radius {radius} is {area}.\")\n",
    "\n",
    "# In this program, the input() function is used to get the radius of the circle as input. The user's input is converted to a floating-point number using the float() function.\n",
    "\n",
    "# Then, the formula for calculating the area of a circle is applied: area = 3.14 * radius ** 2.\n",
    "\n",
    "# Finally, the area of the circle is printed using the print() function.\n",
    "\n",
    "# When you run this program, it will prompt the user to enter the radius of the circle. After the user enters the radius and presses Enter, the program will print the area of the circle."
   ]
  },
  {
   "cell_type": "markdown",
   "metadata": {},
   "source": [
    "## Question 17\n",
    "Write a Python program to find the maximum of two numbers entered by the user.\n",
    "\n"
   ]
  },
  {
   "cell_type": "code",
   "execution_count": null,
   "metadata": {},
   "outputs": [],
   "source": [
    "\n",
    "# Get the first number as input\n",
    "num1 = float(input(\"Enter the first number: \"))\n",
    "\n",
    "# Get the second number as input\n",
    "num2 = float(input(\"Enter the second number: \"))\n",
    "\n",
    "# Find the maximum of the two numbers\n",
    "if num1 > num2:\n",
    "    max_num = num1\n",
    "else:\n",
    "    max_num = num2\n",
    "\n",
    "# Print the maximum of the two numbers\n",
    "print(f\"The maximum of {num1} and {num2} is {max_num}.\")"
   ]
  },
  {
   "cell_type": "markdown",
   "metadata": {},
   "source": [
    "## Question 18\n",
    "Create a Python program that asks the user to enter two numbers and prints out their product.\n",
    "\n"
   ]
  },
  {
   "cell_type": "code",
   "execution_count": null,
   "metadata": {},
   "outputs": [],
   "source": [
    "\n",
    "# Get the first number as input\n",
    "num1 = float(input(\"Enter the first number: \"))\n",
    "\n",
    "# Get the second number as input\n",
    "num2 = float(input(\"Enter the second number: \"))\n",
    "\n",
    "# Calculate the product of the two numbers\n",
    "product = num1 * num2\n",
    "\n",
    "# Print the product of the two numbers\n",
    "print(f\"The product of {num1} and {num2} is {product}.\")"
   ]
  },
  {
   "cell_type": "markdown",
   "metadata": {},
   "source": [
    "## Question 19\n",
    "Write a Python program that prompts the user to enter a number and then prints whether the number is positive, negative, or zero."
   ]
  },
  {
   "cell_type": "code",
   "execution_count": null,
   "metadata": {},
   "outputs": [],
   "source": [
    "\n",
    "\n",
    "# Get the number as input\n",
    "num = float(input(\"Enter a number: \"))\n",
    "\n",
    "# Determine whether the number is positive, negative, or zero\n",
    "if num > 0:\n",
    "    sign = \"positive\"\n",
    "elif num < 0:\n",
    "    sign = \"negative\"\n",
    "else:\n",
    "    sign = \"zero\"\n",
    "\n",
    "# Print whether the number is positive, negative, or zero\n",
    "print(f\"The number {num} is {sign}.\")"
   ]
  }
 ],
 "metadata": {
  "anaconda-cloud": {},
  "kernelspec": {
   "display_name": "Python 3 (ipykernel)",
   "language": "python",
   "name": "python3"
  },
  "language_info": {
   "codemirror_mode": {
    "name": "ipython",
    "version": 3
   },
   "file_extension": ".py",
   "mimetype": "text/x-python",
   "name": "python",
   "nbconvert_exporter": "python",
   "pygments_lexer": "ipython3",
   "version": "3.12.2"
  }
 },
 "nbformat": 4,
 "nbformat_minor": 4
}
